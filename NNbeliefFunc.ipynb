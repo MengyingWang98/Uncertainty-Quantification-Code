{
 "cells": [
  {
   "cell_type": "markdown",
   "metadata": {},
   "source": [
    " This is a python implementation of the work by [Denoeux (2019)](https://www.hds.utc.fr/~tdenoeux/dokuwiki/_media/en/publi/nnbelief_kbs_v2_clean.pdf) and the entropy calculation w.r.t. mass functions defined by [Jiroušek and Shenoy (2018)](http://library.utia.cas.cz/separaty/2017/MTR/jirousek-0481470.pdf)"
   ]
  },
  {
   "cell_type": "code",
   "execution_count": 2,
   "metadata": {},
   "outputs": [],
   "source": [
    "import numpy as np"
   ]
  },
  {
   "cell_type": "markdown",
   "metadata": {},
   "source": [
    "## Parameter determination"
   ]
  },
  {
   "cell_type": "markdown",
   "metadata": {},
   "source": [
    "$\\beta ^*_{0k}=\\hat{\\beta_{0k}}-\\frac{1}{K}\\sum^K_{l=1}\\hat{\\beta_{0l}} \\quad$"
   ]
  },
  {
   "cell_type": "code",
   "execution_count": 2,
   "metadata": {},
   "outputs": [],
   "source": [
    "def beta_0(b): # Equ.38 (\"_beta\" -> \"\"beta^*\"\")\n",
    "    return b-np.mean(b)"
   ]
  },
  {
   "cell_type": "markdown",
   "metadata": {},
   "source": [
    "Beta: $\\beta ^*_{jk}=\\hat{\\beta_{jk}}-\\frac{1}{K}\\sum^K_{l=1}\\hat{\\beta_{jl}} \\quad$ (Equ. B.3)"
   ]
  },
  {
   "cell_type": "code",
   "execution_count": 3,
   "metadata": {},
   "outputs": [],
   "source": [
    "def beta_jk(w):\n",
    "    beta_temp = np.sum(w,axis =1)/w.shape[1]\n",
    "    beta_temp = beta_temp.reshape(len(beta_temp),-1)\n",
    "    beta_temp = np.tile(beta_temp,(1,w.shape[1]))\n",
    "    beta_temp = w - beta_temp\n",
    "    return beta_temp"
   ]
  },
  {
   "cell_type": "markdown",
   "metadata": {},
   "source": [
    "Alpha: $\\alpha^*_{jk}=\\frac{1}{J}\\left(\\beta^*_{0k}+\\sum^J_{j=1}\\beta^*_{jk}\\mu_j \\right)-\\beta_{jk}^* \\mu_j$   (Equ.38)"
   ]
  },
  {
   "cell_type": "code",
   "execution_count": 4,
   "metadata": {},
   "outputs": [],
   "source": [
    "# Mean output for each neuron in a layer\n",
    "def mean_neuron(output):\n",
    "    u_temp = np.mean(output,axis=0)\n",
    "    return u_temp # tensor shape(j,)\n",
    "\n",
    "def alpha_jk_single(beta,beta_0): # possibily incorrect, not from the original paper\n",
    "    alpha_temp = beta_0/beta.shape[0]\n",
    "    alpha_temp = np.tile(alpha_temp,(beta.shape[0],1))\n",
    "    alpha_temp.shape\n",
    "    return alpha_temp\n",
    "\n",
    "def alpha_jk(beta,beta_0,x):\n",
    "    beta_temp = beta_jk(beta)\n",
    "    u_temp = mean_neuron(x)\n",
    "    _u_temp =u_temp.reshape(len(u_temp),-1)\n",
    "    _u_temp = np.tile(_u_temp,(1,beta.shape[1]))\n",
    "    temp=(beta_0+np.dot(beta_temp.T,u_temp))/len(u_temp)\n",
    "    alpha_temp = np.zeros([beta.shape[0],beta.shape[1]]) #tensor shape(j,k)\n",
    "    for i in range(len(beta_temp)):\n",
    "        alpha_temp[i]= temp -(beta_temp*_u_temp)[i]\n",
    "    return alpha_temp"
   ]
  },
  {
   "cell_type": "markdown",
   "metadata": {},
   "source": [
    "## Prediction information derived based on NNbelief "
   ]
  },
  {
   "cell_type": "markdown",
   "metadata": {},
   "source": [
    "$w_{jk}:=\\beta_{jk}\\phi_j(x)+\\alpha_{jk}   $  (Equ. 25)"
   ]
  },
  {
   "cell_type": "code",
   "execution_count": 5,
   "metadata": {},
   "outputs": [],
   "source": [
    "def belief_weight(beta,alpha,x):\n",
    "    weight_jk=np.zeros([len(x),len(beta),len(beta[0])])\n",
    "    weight_temp=np.zeros([len(beta),len(beta[0])])\n",
    "    for i in range(len(weight_jk)):\n",
    "        for j in range(beta.shape[1]):\n",
    "            weight_temp[:,j]=beta[:,j]*x[i] \n",
    "        weight_jk[i]=weight_temp+alpha \n",
    "    return weight_jk"
   ]
  },
  {
   "cell_type": "markdown",
   "metadata": {},
   "source": [
    "$w_k^+ := \\sum_{j=1}^J w_{jk}^+$  (Equ. 27)"
   ]
  },
  {
   "cell_type": "code",
   "execution_count": 6,
   "metadata": {},
   "outputs": [],
   "source": [
    "def weight_pos(beta,alpha,x):\n",
    "    weight = belief_weight(beta,alpha,x)\n",
    "    weight_temp=np.zeros([len(weight),len(weight[0][0])])  # tensor shape(n,k)\n",
    "    for i in range(len(weight)):\n",
    "        weight_temp[i]=np.maximum(0,weight[i]).sum(axis=0)\n",
    "    return weight_temp"
   ]
  },
  {
   "cell_type": "markdown",
   "metadata": {},
   "source": [
    "$w_k^- := \\sum_{j=1}^J w_{jk}^-$  (Equ. 27)"
   ]
  },
  {
   "cell_type": "code",
   "execution_count": 7,
   "metadata": {},
   "outputs": [],
   "source": [
    "def weight_neg(beta,alpha,x):\n",
    "    weight = belief_weight(beta,alpha,x)\n",
    "    weight_temp=np.zeros([len(weight),len(weight[0][0])])  # tensor shape(n,k)\n",
    "    for i in range(len(weight)):\n",
    "        weight_temp[i]=np.maximum(0,-weight[i]).sum(axis=0)\n",
    "    return weight_temp"
   ]
  },
  {
   "cell_type": "markdown",
   "metadata": {},
   "source": [
    "$\\eta^+ = (\\sum_{l=1}^K exp(w_l^+)-K+1)^{-1}$ (Equ. A.3.-1)"
   ]
  },
  {
   "cell_type": "code",
   "execution_count": 8,
   "metadata": {},
   "outputs": [],
   "source": [
    "def eta_pos(beta,alpha,x):\n",
    "    w_pos = weight_pos(beta,alpha,x)\n",
    "    eta_temp=np.zeros([len(w_pos)]) # tensor shape(n,)\n",
    "    K=len(w_pos[0])\n",
    "    for i in range(len(w_pos)):\n",
    "        eta_temp[i]=1/(np.exp(w_pos[i]).sum()-K+1)\n",
    "    return eta_temp"
   ]
  },
  {
   "cell_type": "markdown",
   "metadata": {},
   "source": [
    "$\\eta^- = (1-\\prod_{l=1}^K[1-exp(-w_l^-)])^{-1}$ (Equ. A.3.-2)"
   ]
  },
  {
   "cell_type": "code",
   "execution_count": 9,
   "metadata": {},
   "outputs": [],
   "source": [
    "def eta_neg(beta,alpha,x):\n",
    "    w_neg = weight_neg(beta,alpha,x)\n",
    "    eta_temp=np.zeros([len(w_neg)]) # tensor shape(n,)\n",
    "    for i in range(len(w_neg)):\n",
    "        eta_temp[i]=1/(1-np.prod(1-np.exp(-w_neg[i])))\n",
    "    return eta_temp"
   ]
  },
  {
   "cell_type": "markdown",
   "metadata": {},
   "source": [
    "**Conflict** \n",
    "\n",
    "$k=\\sum_{k=1}^K\\{\\eta^+(exp(w_k^+)-1)[1-\\eta^-exp(-w_k^-)]\\}$(Equ. A.3.-3)"
   ]
  },
  {
   "cell_type": "code",
   "execution_count": 10,
   "metadata": {},
   "outputs": [],
   "source": [
    "def conflict(beta,alpha,x):\n",
    "    w_pos = weight_pos(beta,alpha,x)\n",
    "    w_neg = weight_neg(beta,alpha,x)\n",
    "    k_temp=np.zeros([len(w_neg)])\n",
    "    eta_pos_temp = eta_pos(beta,alpha,x)\n",
    "    eta_neg_temp = eta_neg(beta,alpha,x)\n",
    "    for i in range(len(w_neg)):\n",
    "        k_temp[i]=sum(eta_pos_temp[i]*(np.exp(w_pos[i])-1)*(1-eta_neg_temp[i]*np.exp(-w_neg[i])))\n",
    "    return k_temp"
   ]
  },
  {
   "cell_type": "markdown",
   "metadata": {},
   "source": [
    "$\\eta = (1-k)^{-1}$(Equ. A.3.-4)"
   ]
  },
  {
   "cell_type": "code",
   "execution_count": 11,
   "metadata": {},
   "outputs": [],
   "source": [
    "def eta(beta,alpha,x):\n",
    "    return 1/(1-conflict(beta,alpha,x))"
   ]
  },
  {
   "cell_type": "markdown",
   "metadata": {},
   "source": [
    "**Ignorance** \n",
    "\n",
    "$m(\\Theta) = \\eta\\cdot\\eta^+\\cdot\\eta^-\\cdot \\exp(-\\sum_{k=1}^K w_k^-) $"
   ]
  },
  {
   "cell_type": "code",
   "execution_count": 12,
   "metadata": {},
   "outputs": [],
   "source": [
    "def ignorance(beta,alpha,x):\n",
    "    w_pos = weight_pos(beta,alpha,x)\n",
    "    w_neg = weight_neg(beta,alpha,x)\n",
    "    eta_pos_temp = eta_pos(beta,alpha,x)\n",
    "    eta_neg_temp = eta_neg(beta,alpha,x)\n",
    "    eta_temp = eta(beta,alpha,x)\n",
    "    ig_temp = eta_temp*eta_pos_temp*eta_neg_temp*np.exp(-np.sum(w_neg,axis=1))\n",
    "    return ig_temp"
   ]
  },
  {
   "cell_type": "markdown",
   "metadata": {},
   "source": [
    "**Mass($m(\\theta_k)$)**\n",
    "\n",
    "$m(\\theta_k) = \\eta\\cdot\\eta^+\\cdot\\eta^-\\cdot \\exp(-w_k^-)\\cdot \\{ \\exp(w_k^+)-1+\\prod_{l\\neq k}[1-\\exp(-w_l^-)]\\}$(Equ. A.3.-6)"
   ]
  },
  {
   "cell_type": "code",
   "execution_count": 13,
   "metadata": {},
   "outputs": [],
   "source": [
    "def m_theta_k(beta,alpha,x): # return the masses for all k\n",
    "    w_pos = weight_pos(beta,alpha,x)\n",
    "    w_neg = weight_neg(beta,alpha,x)\n",
    "    eta_pos_temp = eta_pos(beta,alpha,x)\n",
    "    eta_neg_temp = eta_neg(beta,alpha,x)\n",
    "    eta_temp = eta(beta,alpha,x)        \n",
    "    prod_temp = np.zeros([len(x)])\n",
    "    m_temp = np.zeros([len(x),len(w_neg[0])])\n",
    "    for i in range(len(w_neg[0])):\n",
    "        w_neg_cut = np.delete(w_neg,i,1)\n",
    "        for j in range(len(w_neg_cut)):\n",
    "            prod_temp[j] = np.prod(1-np.exp(-w_neg_cut[j]))\n",
    "        m_temp[:,i] = eta_temp*eta_pos_temp*eta_neg_temp*np.exp(-w_neg[:,i])*(np.exp(w_pos[:,i])-1+prod_temp)\n",
    "    return m_temp"
   ]
  },
  {
   "cell_type": "markdown",
   "metadata": {},
   "source": [
    "**Mass($m(A)$)**\n",
    "\n",
    "$m(A) = \\eta\\cdot\\eta^+\\cdot\\eta^-\\cdot \\{\\prod_{\\theta_k\\notin A}[1-\\exp(-w_k^-)]\\}\\cdot \\{\\prod_{\\theta_k\\in A}\\exp(-w_k^-)\\}$(Equ. A.3.-7)"
   ]
  },
  {
   "cell_type": "code",
   "execution_count": null,
   "metadata": {},
   "outputs": [],
   "source": [
    "def m_theta_12(beta,alpah,x): \n",
    "    w_pos = weight_pos(beta,alpah,x)\n",
    "    w_neg = weight_neg(beta,alpah,x)\n",
    "    eta_pos_temp = eta_pos(beta,alpah,x)\n",
    "    eta_neg_temp = eta_neg(beta,alpah,x)\n",
    "    eta_temp = eta(beta,alpah,x)\n",
    "    return(eta_temp*eta_pos_temp*eta_neg_temp*(1-np.exp(-w_neg[:,2]))*np.exp(-w_neg[:,0])*np.exp(-w_neg[:,1]))\n"
   ]
  },
  {
   "cell_type": "code",
   "execution_count": 14,
   "metadata": {},
   "outputs": [],
   "source": [
    "def m_theta_A(beta,alpha,x,A):\n",
    "    u_set = np.arange(0,alpha.shape[1]) # Universal set\n",
    "    \n",
    "    idx_A = []\n",
    "    for i in A:\n",
    "        idx_A.append(np.where(u_set == i)[0][0]) # get the index of A\n",
    "    idx_notA = list(np.delete(u_set,idx_A)) # get the index of not A\n",
    "    \n",
    "    w_pos = weight_pos(beta,alpha,x)\n",
    "    w_neg = weight_neg(beta,alpha,x)\n",
    "    eta_pos_temp = eta_pos(beta,alpha,x)\n",
    "    eta_neg_temp = eta_neg(beta,alpha,x)\n",
    "    eta_temp = eta(beta,alpha,x)\n",
    "    \n",
    "    w=np.prod(np.exp(-w_neg[:,idx_A]),axis=1)\n",
    "    _w=np.prod(1-np.exp(-w_neg[:,idx_notA]),axis=1)\n",
    "    \n",
    "    return(eta_temp*eta_pos_temp*eta_neg_temp*w*_w)"
   ]
  },
  {
   "cell_type": "code",
   "execution_count": 15,
   "metadata": {},
   "outputs": [
    {
     "data": {
      "text/plain": [
       "[[4], [5], [4, 5], [6], [4, 6], [5, 6], [4, 5, 6]]"
      ]
     },
     "execution_count": 15,
     "metadata": {},
     "output_type": "execute_result"
    }
   ],
   "source": [
    "# calculate powerset without empty set\n",
    "# https://blog.csdn.net/xjtuse123/article/details/99202846\n",
    "def PowerSetsBinary(items):\n",
    "    N = len(items)\n",
    "    arr = []\n",
    "    for i in range(2 ** N): # Number of subsets\n",
    "        combo = []\n",
    "        for j in range(N): \n",
    "            if(i>>j)%2: # check if the bit whose index equals to j is 1\n",
    "                combo.append(items[j])\n",
    "        arr.append(combo)\n",
    "    arr.remove([]) # remove empty set\n",
    "    return arr\n",
    "\n",
    "a=PowerSetsBinary([4,5,6])\n",
    "a"
   ]
  },
  {
   "cell_type": "code",
   "execution_count": 3,
   "metadata": {},
   "outputs": [],
   "source": [
    "# Complment of A 补集\n",
    "def complement(u_set,A):\n",
    "    idx_A = []\n",
    "    if(len(A)!=1):\n",
    "        for i in A:\n",
    "            idx_A.append(np.where(u_set == i)[0][0])\n",
    "    else:\n",
    "        idx_A.append(np.where(u_set == A)[0])\n",
    "    idx_notA = list(np.delete(u_set,idx_A))\n",
    "    return(u_set[idx_notA])"
   ]
  },
  {
   "cell_type": "markdown",
   "metadata": {},
   "source": [
    "**Belief function**\n",
    "\n",
    "$bel(A) = \\sum_{B\\subseteq A}m(B)$(Equ. 2a)"
   ]
  },
  {
   "cell_type": "code",
   "execution_count": 17,
   "metadata": {},
   "outputs": [],
   "source": [
    "def bel(beta,alpha,x,u_set,A):\n",
    "    sub = PowerSetsBinary(A)\n",
    "    bel_temp = np.zeros([len(x)])\n",
    "    for i in sub:\n",
    "        if(len(i)!=1): # use m_A when the subset has more than one element\n",
    "            bel_temp=bel_temp+m_theta_A(beta,alpha,x,i)\n",
    "        else: # use m_k when the subset has only one element\n",
    "            bel_temp=bel_temp+m_theta_k(beta,alpha,x)[:,i[0]]\n",
    "    return(bel_temp)"
   ]
  },
  {
   "cell_type": "markdown",
   "metadata": {},
   "source": [
    "**Plausibility function**\n",
    "\n",
    "$pl(A) = \\sum_{B\\cap A \\neq \\emptyset}m(B) = 1-bel(\\bar{A})$(Equ. 2b)"
   ]
  },
  {
   "cell_type": "code",
   "execution_count": 18,
   "metadata": {},
   "outputs": [],
   "source": [
    "def plausibility(beta,alpha,x,u_set,A):\n",
    "    com_A = complement(u_set,A)\n",
    "    pl = 1-np.round(bel(beta,alpha,x,u_set,com_A),14) # round number to avoid computational error(NAN)\n",
    "    return(pl)"
   ]
  },
  {
   "cell_type": "markdown",
   "metadata": {},
   "source": [
    "## Calculate the entropy"
   ]
  },
  {
   "cell_type": "markdown",
   "metadata": {},
   "source": [
    "**Shannon's entropy with plausibility transform**\n",
    "\n",
    "$H_s(P_m)=\\sum_{x\\in \\Omega_X}P_m(x)log\\big(\\frac{1}{P_m(x)}\\big)$"
   ]
  },
  {
   "cell_type": "code",
   "execution_count": 19,
   "metadata": {},
   "outputs": [],
   "source": [
    "def H_conflict(beta,alpha,x,u_set):\n",
    "    # plausibility transform (Voorbraak,1989; Shenoy,2006)\n",
    "    sum_pl = np.zeros([len(x)]) # normalization constant for plausibility transform\n",
    "    p_m = []\n",
    "    for i in u_set:\n",
    "        i=[i]\n",
    "        sum_pl = sum_pl+plausibility(beta,alpha,x,u_set,i)\n",
    "    for j in u_set:\n",
    "        j=[j]\n",
    "        p_m.append(plausibility(beta,alpha,x,u_set,j)/sum_pl) (Equ. 9)\n",
    "    p_m = np.array(p_m)\n",
    "    # Shannon's entropy\n",
    "    h_temp = (p_m*np.log2(1/p_m)).sum(axis=0)\n",
    "    return(h_temp)"
   ]
  },
  {
   "cell_type": "markdown",
   "metadata": {},
   "source": [
    "# **Dubois and Prade's non-specificity entropy (Dubois and Prada, 1987)**\n",
    "\n",
    "$H_d(m)=\\sum_{a\\in 2^{\\Omega_X}}m(a)log(|a|)$"
   ]
  },
  {
   "cell_type": "code",
   "execution_count": 20,
   "metadata": {},
   "outputs": [],
   "source": [
    "def H_non_specificity(beta,alpha,x,u_set):\n",
    "    p_set = PowerSetsBinary(u_set)\n",
    "    h_temp = []\n",
    "    for i in p_set:\n",
    "        if(len(i)>1):\n",
    "            h_temp.append(m_theta_A(beta,alpha,x,i)*np.log2(len(i)))\n",
    "    h_temp = np.array(h_temp)            \n",
    "    h_temp = h_temp.sum(axis=0)\n",
    "    return(h_temp)"
   ]
  },
  {
   "cell_type": "markdown",
   "metadata": {},
   "source": [
    "**Total entropy: conflict + non-specificity (Shenoy,2018)**\n",
    "\n",
    "$H(m)=H_s(P_m)+H_d(m)=\\sum_{x\\in \\Omega_X}P_m(x)log\\big(\\frac{1}{P_m(x)}\\big)+\\sum_{a\\in 2^{\\Omega_X}}m(a)log(|a|)$"
   ]
  },
  {
   "cell_type": "code",
   "execution_count": 21,
   "metadata": {},
   "outputs": [],
   "source": [
    "def H_total(beta,alpha,x,u_set):  \n",
    "    return(H_conflict(beta,alpha,x,u_set)+H_non_specificity(beta,alpha,x,u_set))"
   ]
  },
  {
   "cell_type": "markdown",
   "metadata": {},
   "source": [
    "##  Calculate the decision  interval "
   ]
  },
  {
   "cell_type": "markdown",
   "metadata": {},
   "source": [
    " **lower expected loss**   \n",
    " $R_*(a_k)=1-pl(\\theta_k)$ (Equ. 2.17-a)"
   ]
  },
  {
   "cell_type": "code",
   "execution_count": null,
   "metadata": {},
   "outputs": [],
   "source": [
    "def low_loss(beta,alpha,x,u_set,A):\n",
    "    ra=1-plausibility(beta,alpha,x,u_set,A)\n",
    "    return (ra)"
   ]
  },
  {
   "cell_type": "markdown",
   "metadata": {},
   "source": [
    " **upper expected loss**    \n",
    " $R^*(a_k)=1-Bel(\\theta_k)$ (Equ. 2.17-b)"
   ]
  },
  {
   "cell_type": "code",
   "execution_count": null,
   "metadata": {},
   "outputs": [],
   "source": [
    "def up_loss(beta,alpha,x,u_set,A):\n",
    "    ra=1-bel(beta,alpha,x,u_set,A)\n",
    "    return (ra)"
   ]
  },
  {
   "cell_type": "code",
   "execution_count": null,
   "metadata": {},
   "outputs": [],
   "source": []
  }
 ],
 "metadata": {
  "kernelspec": {
   "display_name": "Python 3",
   "language": "python",
   "name": "python3"
  },
  "language_info": {
   "codemirror_mode": {
    "name": "ipython",
    "version": 3
   },
   "file_extension": ".py",
   "mimetype": "text/x-python",
   "name": "python",
   "nbconvert_exporter": "python",
   "pygments_lexer": "ipython3",
   "version": "3.7.10"
  }
 },
 "nbformat": 4,
 "nbformat_minor": 2
}
